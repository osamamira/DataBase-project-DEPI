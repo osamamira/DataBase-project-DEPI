{
 "cells": [
  {
   "cell_type": "markdown",
   "id": "d9b86782-96eb-4250-93a8-513862095826",
   "metadata": {},
   "source": [
    "# those were the requierments"
   ]
  },
  {
   "cell_type": "markdown",
   "id": "1c66b88d-cfac-400a-8218-429dc9a8b115",
   "metadata": {},
   "source": [
    "## University Management System\n",
    "\n",
    "### Tables\n",
    "\n",
    "#### Students\n",
    "- `student_id`\n",
    "- `name`\n",
    "- `age`\n",
    "- `major`\n",
    "- `enrollment_date`\n",
    "\n",
    "#### Courses\n",
    "- `course_id`\n",
    "- `name`\n",
    "- `credits`\n",
    "- `instructor`\n",
    "\n",
    "### Enrollments\n",
    "- `enrollment_id`\n",
    "- `student_id`\n",
    "- `course_id`\n",
    "- `grade`\n",
    "\n",
    "### Use Cases\n",
    "- Identify students enrolled in a specific course\n",
    "- Calculate the average grade for a course\n",
    "- Update course details and track student progress\n",
    "\n",
    "### Implementation Plan\n",
    "\n",
    "#### Create Schema and ERD\n",
    "- Design an Entity-Relationship Diagram (ERD) showing the relationships among the tables\n",
    "\n",
    "#### SQL Implementation\n",
    "- Implement schema creation in SQL (CREATE TABLE commands)\n",
    "- Create tables with primary keys, foreign keys, and constraints\n",
    "- Insert rows in tables\n",
    "- Update tables using UPDATE to modify records\n",
    "\n",
    "#### Select Queries\n",
    "- Use SELECT queries with:\n",
    "  - WHERE clauses\n",
    "  - Logical operators (AND, OR)\n",
    "  - Filtering\n",
    "  - Inner joins\n",
    "  - Left or right joins\n",
    "  - Querying data from multiple tables\n",
    "  - Subqueries for advanced filtering or calculations\n",
    "\n",
    "### Python and Pandas Operations\n",
    "\n",
    "#### Data Handling\n",
    "- Read data using `pandas.read_sql()`\n",
    "- Manipulate data:\n",
    "  - Add columns: `df['new_column'] = df['existing_column'] * 2`\n",
    "  - Delete columns: `df.drop(columns=['column_name'], inplace=True)`\n",
    "- Indexing with `loc` and `iloc`\n",
    "- Export data using `df.to_csv()` or `df.to_excel()`\n",
    "\n",
    "#### Additional Tasks\n",
    "- Upload all work to GitHub\n",
    "\n",
    "### ERD Diagram"
   ]
  },
  {
   "cell_type": "markdown",
   "id": "fada127d-4143-446e-aa6b-b5b3983163b5",
   "metadata": {},
   "source": [
    "# those are solutions"
   ]
  },
  {
   "cell_type": "markdown",
   "id": "eef0967f-2861-4372-830c-f728c81f7faa",
   "metadata": {},
   "source": [
    "## the ERD\n",
    "![ERD Diagram](erd.png)"
   ]
  },
  {
   "cell_type": "markdown",
   "id": "28f66648-5e0a-439f-b87f-7ac2f210c744",
   "metadata": {},
   "source": [
    "## loading reqierments"
   ]
  },
  {
   "cell_type": "code",
   "execution_count": null,
   "id": "0287493a-6e48-4fef-8bf2-3ea70360f405",
   "metadata": {},
   "outputs": [],
   "source": [
    "import pandas as pd\n",
    "import pymysql\n",
    "%load_ext sql"
   ]
  },
  {
   "cell_type": "markdown",
   "id": "24dfa6f7-af60-420e-947a-07e03fc61d6d",
   "metadata": {},
   "source": [
    "## creating the database"
   ]
  },
  {
   "cell_type": "code",
   "execution_count": null,
   "id": "6a2da565-be4c-4b53-9612-1641db7460ee",
   "metadata": {
    "scrolled": true
   },
   "outputs": [],
   "source": [
    "%sql create database ums;"
   ]
  },
  {
   "cell_type": "markdown",
   "id": "dae20ac9-393c-403a-81d4-f26da2d88d1a",
   "metadata": {},
   "source": [
    "## creating tables"
   ]
  },
  {
   "cell_type": "markdown",
   "id": "8e328ac6-2eed-4df7-9f0c-368ad38c78dd",
   "metadata": {},
   "source": [
    "### creating table student"
   ]
  },
  {
   "cell_type": "code",
   "execution_count": null,
   "id": "23e7e97c-94f6-4332-8de9-f96d92d51278",
   "metadata": {
    "scrolled": true
   },
   "outputs": [],
   "source": [
    "%%sql \n",
    "-- Student Table\n",
    "CREATE TABLE Student (\n",
    "    s_id INT PRIMARY KEY,\n",
    "    s_name VARCHAR(45),\n",
    "    major VARCHAR(45),\n",
    "    age INT\n",
    ");"
   ]
  },
  {
   "cell_type": "markdown",
   "id": "fb394f74-c079-4666-b276-a61a79c4944b",
   "metadata": {},
   "source": [
    "### creating table grades"
   ]
  },
  {
   "cell_type": "code",
   "execution_count": null,
   "id": "f9069d2a-f29d-42e1-90d1-0eb32d41a702",
   "metadata": {},
   "outputs": [],
   "source": [
    "%%sql \n",
    "-- Grades Table\n",
    "CREATE TABLE Grades (\n",
    "    counter INT PRIMARY KEY,\n",
    "    s_id INT ,\n",
    "    MachineLearning INT,\n",
    "    ArtificialIntelligence INT,\n",
    "    NLPNaturalLanguageProcessing INT,\n",
    "    ComputerVision INT,\n",
    "    DataScience INT,\n",
    "    DeepLearning INT,\n",
    "    Algebra INT,\n",
    "    Calculus INT,\n",
    "    Probability INT,\n",
    "    Statistics INT,\n",
    "    FOREIGN KEY (s_id) REFERENCES Student(s_id)\n",
    ");"
   ]
  },
  {
   "cell_type": "markdown",
   "id": "b225863a-ae66-4eaa-86fe-64c5b643fa5b",
   "metadata": {},
   "source": [
    "### creating table instructor"
   ]
  },
  {
   "cell_type": "code",
   "execution_count": null,
   "id": "ac3869c5-04cd-4e47-9203-1c67ae543ff5",
   "metadata": {},
   "outputs": [],
   "source": [
    "%%sql\n",
    "-- Instructor Table\n",
    "CREATE TABLE Instructor (\n",
    "    i_id INT PRIMARY KEY,\n",
    "    i_name VARCHAR(45),\n",
    "    i_major VARCHAR(45)\n",
    ");\n"
   ]
  },
  {
   "cell_type": "markdown",
   "id": "b89942dd-eb7d-4072-8730-ca53d5d56beb",
   "metadata": {},
   "source": [
    "### creating table course"
   ]
  },
  {
   "cell_type": "code",
   "execution_count": null,
   "id": "5a72264e-5633-4475-90a2-ed94013dd72c",
   "metadata": {},
   "outputs": [],
   "source": [
    "%%sql\n",
    "-- Course Table\n",
    "CREATE TABLE Course (\n",
    "    c_id INT PRIMARY KEY,\n",
    "    c_name VARCHAR(45),\n",
    "    credits INT,\n",
    "    i_id INT,\n",
    "    FOREIGN KEY (i_id) REFERENCES Instructor(i_id)\n",
    ");"
   ]
  },
  {
   "cell_type": "markdown",
   "id": "afab28cc-e625-4428-a08d-d9f8a7b7d6b2",
   "metadata": {},
   "source": [
    "### creating table enrollment"
   ]
  },
  {
   "cell_type": "code",
   "execution_count": null,
   "id": "e6e306b8-f315-43fb-b511-33ee70ba06c1",
   "metadata": {},
   "outputs": [],
   "source": [
    "%%sql\n",
    "-- Enrollment Table\n",
    "CREATE TABLE Enrollment (\n",
    "    s_id INT,\n",
    "    c_id INT,\n",
    "    e_date DATE,\n",
    "    PRIMARY KEY (s_id, c_id),\n",
    "    FOREIGN KEY (s_id) REFERENCES Student(s_id),\n",
    "    FOREIGN KEY (c_id) REFERENCES Course(c_id)\n",
    ");"
   ]
  },
  {
   "cell_type": "markdown",
   "id": "0b7a887a-5589-4a57-b6d3-bff95f4e7bf4",
   "metadata": {},
   "source": [
    "## data insertion"
   ]
  },
  {
   "cell_type": "markdown",
   "id": "62c2057f-7302-4e67-acdc-4b46368704e6",
   "metadata": {},
   "source": [
    "### insert 100 student"
   ]
  },
  {
   "cell_type": "code",
   "execution_count": null,
   "id": "b682b112-9aa8-4b61-a9f7-7ef38f585e65",
   "metadata": {},
   "outputs": [],
   "source": [
    "%%sql\n",
    "-- insert 100 student\n",
    "INSERT INTO Student (s_id, s_name, major, age) VALUES\n",
    "(1, 'John Doe', 'Computer Science', 20),\n",
    "(2, 'Jane Smith', 'Mathematics', 22),\n",
    "(3, 'Alice Johnson', 'Math & Computer Science', 21),\n",
    "(4, 'Bob Brown', 'Computer Science', 23),\n",
    "(5, 'Charlie Davis', 'Mathematics', 19),\n",
    "(6, 'Eva Green', 'Math & Computer Science', 24),\n",
    "(7, 'Frank White', 'Computer Science', 20),\n",
    "(8, 'Grace Black', 'Mathematics', 22),\n",
    "(9, 'Henry Blue', 'Math & Computer Science', 21),\n",
    "(10, 'Ivy Gray', 'Computer Science', 23),\n",
    "(11, 'Jack Brown', 'Mathematics', 20),\n",
    "(12, 'Karen White', 'Math & Computer Science', 22),\n",
    "(13, 'Leo Green', 'Computer Science', 21),\n",
    "(14, 'Mia Black', 'Mathematics', 23),\n",
    "(15, 'Noah Blue', 'Math & Computer Science', 20),\n",
    "(16, 'Olivia Gray', 'Computer Science', 22),\n",
    "(17, 'Peter Brown', 'Mathematics', 21),\n",
    "(18, 'Quinn White', 'Math & Computer Science', 23),\n",
    "(19, 'Rachel Green', 'Computer Science', 20),\n",
    "(20, 'Sam Black', 'Mathematics', 22),\n",
    "(21, 'Tom Blue', 'Math & Computer Science', 21),\n",
    "(22, 'Uma Gray', 'Computer Science', 23),\n",
    "(23, 'Victor Brown', 'Mathematics', 20),\n",
    "(24, 'Wendy White', 'Math & Computer Science', 22),\n",
    "(25, 'Xander Green', 'Computer Science', 21),\n",
    "(26, 'Yara Black', 'Mathematics', 23),\n",
    "(27, 'Zack Blue', 'Math & Computer Science', 20),\n",
    "(28, 'Anna Gray', 'Computer Science', 22),\n",
    "(29, 'Ben Brown', 'Mathematics', 21),\n",
    "(30, 'Cara White', 'Math & Computer Science', 23),\n",
    "(31, 'Dan Green', 'Computer Science', 20),\n",
    "(32, 'Ella Black', 'Mathematics', 22),\n",
    "(33, 'Finn Blue', 'Math & Computer Science', 21),\n",
    "(34, 'Gina Gray', 'Computer Science', 23),\n",
    "(35, 'Hank Brown', 'Mathematics', 20),\n",
    "(36, 'Iris White', 'Math & Computer Science', 22),\n",
    "(37, 'Jake Green', 'Computer Science', 21),\n",
    "(38, 'Kara Black', 'Mathematics', 23),\n",
    "(39, 'Liam Blue', 'Math & Computer Science', 20),\n",
    "(40, 'Maya Gray', 'Computer Science', 22),\n",
    "(41, 'Nate Brown', 'Mathematics', 21),\n",
    "(42, 'Olga White', 'Math & Computer Science', 23),\n",
    "(43, 'Paul Green', 'Computer Science', 20),\n",
    "(44, 'Quincy Black', 'Mathematics', 22),\n",
    "(45, 'Rita Blue', 'Math & Computer Science', 21),\n",
    "(46, 'Steve Gray', 'Computer Science', 23),\n",
    "(47, 'Tina Brown', 'Mathematics', 20),\n",
    "(48, 'Umar White', 'Math & Computer Science', 22),\n",
    "(49, 'Vera Green', 'Computer Science', 21),\n",
    "(50, 'Will Black', 'Mathematics', 23),\n",
    "(51, 'Xena Blue', 'Math & Computer Science', 20),\n",
    "(52, 'Yuri Gray', 'Computer Science', 22),\n",
    "(53, 'Zane Brown', 'Mathematics', 21),\n",
    "(54, 'Amy White', 'Math & Computer Science', 23),\n",
    "(55, 'Brad Green', 'Computer Science', 20),\n",
    "(56, 'Cara Black', 'Mathematics', 22),\n",
    "(57, 'Dave Blue', 'Math & Computer Science', 21),\n",
    "(58, 'Eve Gray', 'Computer Science', 23),\n",
    "(59, 'Finn Brown', 'Mathematics', 20),\n",
    "(60, 'Gina White', 'Math & Computer Science', 22),\n",
    "(61, 'Hank Green', 'Computer Science', 21),\n",
    "(62, 'Ivy Black', 'Mathematics', 23),\n",
    "(63, 'Jack Blue', 'Math & Computer Science', 20),\n",
    "(64, 'Kara Gray', 'Computer Science', 22),\n",
    "(65, 'Leo Brown', 'Mathematics', 21),\n",
    "(66, 'Mia White', 'Math & Computer Science', 23),\n",
    "(67, 'Noah Green', 'Computer Science', 20),\n",
    "(68, 'Olga Black', 'Mathematics', 22),\n",
    "(69, 'Paul Blue', 'Math & Computer Science', 21),\n",
    "(70, 'Quinn Gray', 'Computer Science', 23),\n",
    "(71, 'Rachel Brown', 'Mathematics', 20),\n",
    "(72, 'Sam White', 'Math & Computer Science', 22),\n",
    "(73, 'Tom Green', 'Computer Science', 21),\n",
    "(74, 'Uma Black', 'Mathematics', 23),\n",
    "(75, 'Victor Blue', 'Math & Computer Science', 20),\n",
    "(76, 'Wendy Gray', 'Computer Science', 22),\n",
    "(77, 'Xander Brown', 'Mathematics', 21),\n",
    "(78, 'Yara White', 'Math & Computer Science', 23),\n",
    "(79, 'Zack Green', 'Computer Science', 20),\n",
    "(80, 'Anna Black', 'Mathematics', 22),\n",
    "(81, 'Ben Blue', 'Math & Computer Science', 21),\n",
    "(82, 'Cara Gray', 'Computer Science', 23),\n",
    "(83, 'Dan Brown', 'Mathematics', 20),\n",
    "(84, 'Ella White', 'Math & Computer Science', 22),\n",
    "(85, 'Finn Green', 'Computer Science', 21),\n",
    "(86, 'Gina Black', 'Mathematics', 23),\n",
    "(87, 'Hank Blue', 'Math & Computer Science', 20),\n",
    "(88, 'Iris Gray', 'Computer Science', 22),\n",
    "(89, 'Jake Brown', 'Mathematics', 21),\n",
    "(90, 'Kara White', 'Math & Computer Science', 23),\n",
    "(91, 'Liam Green', 'Computer Science', 20),\n",
    "(92, 'Maya Black', 'Mathematics', 22),\n",
    "(93, 'Nate Blue', 'Math & Computer Science', 21),\n",
    "(94, 'Olga Gray', 'Computer Science', 23),\n",
    "(95, 'Paul Brown', 'Mathematics', 20),\n",
    "(96, 'Quincy White', 'Math & Computer Science', 22),\n",
    "(97, 'Rita Green', 'Computer Science', 21),\n",
    "(98, 'Steve Black', 'Mathematics', 23),\n",
    "(99, 'Tina Blue', 'Math & Computer Science', 20),\n",
    "(100, 'Umar Gray', 'Computer Science', 22);"
   ]
  },
  {
   "cell_type": "markdown",
   "id": "ff67dd28-6eae-4db3-9f46-9d01cd652e5c",
   "metadata": {},
   "source": [
    "### insert 10 instructor"
   ]
  },
  {
   "cell_type": "code",
   "execution_count": null,
   "id": "711b57d7-2766-49a5-89fa-867a4ced1886",
   "metadata": {},
   "outputs": [],
   "source": [
    "%%sql\n",
    "-- insert 10 instructor\n",
    "INSERT INTO Instructor (i_id, i_name, i_major) VALUES\n",
    "(1, 'Dr. Brown', 'Computer Science'),\n",
    "(2, 'Dr. White', 'Mathematics'),\n",
    "(3, 'Dr. Green', 'Math & Computer Science'),\n",
    "(4, 'Dr. Black', 'Computer Science'),\n",
    "(5, 'Dr. Blue', 'Mathematics'),\n",
    "(6, 'Dr. Gray', 'Math & Computer Science'),\n",
    "(7, 'Dr. Red', 'Computer Science'),\n",
    "(8, 'Dr. Yellow', 'Mathematics'),\n",
    "(9, 'Dr. Orange', 'Math & Computer Science'),\n",
    "(10, 'Dr. Purple', 'Computer Science');"
   ]
  },
  {
   "cell_type": "markdown",
   "id": "bfd01d89-5d5d-430d-985c-450a3056d581",
   "metadata": {},
   "source": [
    "### insert 10 courses"
   ]
  },
  {
   "cell_type": "code",
   "execution_count": null,
   "id": "5598e4ba-baed-4291-b853-a33474234104",
   "metadata": {},
   "outputs": [],
   "source": [
    "%%sql\n",
    "-- inserting 10 courses\n",
    "INSERT INTO Course (c_id, c_name, credits, i_id) VALUES\n",
    "(1, 'MachineLearning', 4, 1),\n",
    "(2, 'ArtificialIntelligence', 3, 2),\n",
    "(3, 'NaturalLanguageProcessing', 3, 3),\n",
    "(4, 'ComputerVision', 4, 4),\n",
    "(5, 'DataScience', 4, 5),\n",
    "(6, 'DeepLearning', 3, 6),\n",
    "(7, 'Algebra', 2, 7),\n",
    "(8, 'Calculus', 3, 8),\n",
    "(9, 'Probability', 2, 9),\n",
    "(10, 'Statistics', 3, 10);"
   ]
  },
  {
   "cell_type": "markdown",
   "id": "17fcd44c-9eec-4f06-a1a7-bcb18fd6608a",
   "metadata": {},
   "source": [
    "### insert 100 enrollment"
   ]
  },
  {
   "cell_type": "code",
   "execution_count": null,
   "id": "5e2a7fe8-b713-444a-b111-775ee10f0401",
   "metadata": {},
   "outputs": [],
   "source": [
    "%%sql\n",
    "-- insert the enrollments of the 100 student\n",
    "INSERT INTO Enrollment (s_id, c_id, e_date) VALUES\n",
    "(1, 1, '2023-01-15'),\n",
    "(2, 2, '2023-02-10'),\n",
    "(3, 3, '2023-03-05'),\n",
    "(4, 4, '2023-04-20'),\n",
    "(5, 5, '2023-05-12'),\n",
    "(6, 6, '2023-06-18'),\n",
    "(7, 7, '2023-07-22'),\n",
    "(8, 8, '2023-08-30'),\n",
    "(9, 9, '2023-09-14'),\n",
    "(10, 10, '2023-10-25'),\n",
    "(11, 1, '2023-01-20'),\n",
    "(12, 2, '2023-02-15'),\n",
    "(13, 3, '2023-03-10'),\n",
    "(14, 4, '2023-04-25'),\n",
    "(15, 5, '2023-05-17'),\n",
    "(16, 6, '2023-06-23'),\n",
    "(17, 7, '2023-07-27'),\n",
    "(18, 8, '2023-08-31'),\n",
    "(19, 9, '2023-09-19'),\n",
    "(20, 10, '2023-10-30'),\n",
    "(21, 1, '2023-01-25'),\n",
    "(22, 2, '2023-02-20'),\n",
    "(23, 3, '2023-03-15'),\n",
    "(24, 4, '2023-04-30'),\n",
    "(25, 5, '2023-05-22'),\n",
    "(26, 6, '2023-06-28'),\n",
    "(27, 7, '2023-07-31'),\n",
    "(28, 8, '2023-08-31'),\n",
    "(29, 9, '2023-09-24'),\n",
    "(30, 10, '2023-10-31'),\n",
    "(31, 1, '2023-01-30'),\n",
    "(32, 2, '2023-02-25'),\n",
    "(33, 3, '2023-03-20'),\n",
    "(34, 4, '2023-04-30'),\n",
    "(35, 5, '2023-05-27'),\n",
    "(36, 6, '2023-06-30'),\n",
    "(37, 7, '2023-07-31'),\n",
    "(38, 8, '2023-08-31'),\n",
    "(39, 9, '2023-09-29'),\n",
    "(40, 10, '2023-10-31'),\n",
    "(41, 1, '2023-01-31'),\n",
    "(42, 2, '2023-02-28'),\n",
    "(43, 3, '2023-03-25'),\n",
    "(44, 4, '2023-04-30'),\n",
    "(45, 5, '2023-05-31'),\n",
    "(46, 6, '2023-06-30'),\n",
    "(47, 7, '2023-07-31'),\n",
    "(48, 8, '2023-08-31'),\n",
    "(49, 9, '2023-09-30'),\n",
    "(50, 10, '2023-10-31'),\n",
    "(51, 1, '2023-01-31'),\n",
    "(52, 2, '2023-02-28'),\n",
    "(53, 3, '2023-03-31'),\n",
    "(54, 4, '2023-04-30'),\n",
    "(55, 5, '2023-05-31'),\n",
    "(56, 6, '2023-06-30'),\n",
    "(57, 7, '2023-07-31'),\n",
    "(58, 8, '2023-08-31'),\n",
    "(59, 9, '2023-09-30'),\n",
    "(60, 10, '2023-10-31'),\n",
    "(61, 1, '2023-01-31'),\n",
    "(62, 2, '2023-02-28'),\n",
    "(63, 3, '2023-03-31'),\n",
    "(64, 4, '2023-04-30'),\n",
    "(65, 5, '2023-05-31'),\n",
    "(66, 6, '2023-06-30'),\n",
    "(67, 7, '2023-07-31'),\n",
    "(68, 8, '2023-08-31'),\n",
    "(69, 9, '2023-09-30'),\n",
    "(70, 10, '2023-10-31'),\n",
    "(71, 1, '2023-01-31'),\n",
    "(72, 2, '2023-02-28'),\n",
    "(73, 3, '2023-03-31'),\n",
    "(74, 4, '2023-04-30'),\n",
    "(75, 5, '2023-05-31'),\n",
    "(76, 6, '2023-06-30'),\n",
    "(77, 7, '2023-07-31'),\n",
    "(78, 8, '2023-08-31'),\n",
    "(79, 9, '2023-09-30'),\n",
    "(80, 10, '2023-10-31'),\n",
    "(81, 1, '2023-01-31'),\n",
    "(82, 2, '2023-02-28'),\n",
    "(83, 3, '2023-03-31'),\n",
    "(84, 4, '2023-04-30'),\n",
    "(85, 5, '2023-05-31'),\n",
    "(86, 6, '2023-06-30'),\n",
    "(87, 7, '2023-07-31'),\n",
    "(88, 8, '2023-08-31'),\n",
    "(89, 9, '2023-09-30'),\n",
    "(90, 10, '2023-10-31'),\n",
    "(91, 1, '2023-01-31'),\n",
    "(92, 2, '2023-02-28'),\n",
    "(93, 3, '2023-03-31'),\n",
    "(94, 4, '2023-04-30'),\n",
    "(95, 5, '2023-05-31'),\n",
    "(96, 6, '2023-06-30'),\n",
    "(97, 7, '2023-07-31'),\n",
    "(98, 8, '2023-08-31'),\n",
    "(99, 9, '2023-09-30'),\n",
    "(100, 10, '2023-10-31');"
   ]
  },
  {
   "cell_type": "markdown",
   "id": "ff96201f-ca3a-4b2e-9104-80212d81d198",
   "metadata": {},
   "source": [
    "### insert 100 grades"
   ]
  },
  {
   "cell_type": "code",
   "execution_count": null,
   "id": "8218d3c7-28cc-4526-9e48-4c58c77f47c9",
   "metadata": {},
   "outputs": [],
   "source": [
    "%%sql\n",
    "-- insert grades for the 100 student\n",
    "INSERT INTO Grades (counter, s_id, MachineLearning, ArtificialIntelligence, NLPNaturalLanguageProcessing, ComputerVision, DataScience, DeepLearning, Algebra, Calculus, Probability, Statistics) VALUES\n",
    "(1, 1, 85, 90, 88, 92, 87, 89, 78, 82, 80, 84),\n",
    "(2, 2, 78, 85, 80, 88, 90, 83, 76, 79, 77, 81),\n",
    "(3, 3, 92, 88, 85, 90, 91, 87, 84, 86, 83, 85),\n",
    "(4, 4, 76, 82, 79, 84, 81, 80, 75, 78, 76, 79),\n",
    "(5, 5, 89, 91, 87, 93, 88, 90, 85, 88, 86, 87),\n",
    "(6, 6, 83, 86, 84, 89, 85, 82, 80, 83, 81, 82),\n",
    "(7, 7, 77, 80, 78, 82, 79, 81, 74, 77, 75, 78),\n",
    "(8, 8, 91, 93, 90, 94, 92, 89, 88, 90, 87, 89),\n",
    "(9, 9, 84, 87, 85, 88, 86, 85, 82, 84, 83, 85),\n",
    "(10, 10, 79, 83, 81, 85, 82, 84, 78, 81, 79, 82),\n",
    "(11, 11, 88, 90, 87, 91, 89, 88, 85, 87, 86, 88),\n",
    "(12, 12, 82, 85, 83, 86, 84, 83, 80, 82, 81, 83),\n",
    "(13, 13, 75, 78, 76, 80, 77, 79, 72, 75, 73, 76),\n",
    "(14, 14, 90, 92, 89, 93, 91, 90, 87, 89, 88, 90),\n",
    "(15, 15, 86, 89, 87, 90, 88, 87, 84, 86, 85, 87),\n",
    "(16, 16, 80, 84, 82, 85, 83, 84, 79, 82, 80, 83),\n",
    "(17, 17, 93, 95, 92, 96, 94, 93, 90, 92, 91, 93),\n",
    "(18, 18, 87, 90, 88, 91, 89, 88, 85, 87, 86, 88),\n",
    "(19, 19, 81, 85, 83, 86, 84, 85, 80, 83, 81, 84),\n",
    "(20, 20, 94, 96, 93, 97, 95, 94, 91, 93, 92, 94),\n",
    "(21, 21, 88, 91, 89, 92, 90, 89, 86, 88, 87, 89),\n",
    "(22, 22, 82, 86, 84, 87, 85, 86, 81, 84, 82, 85),\n",
    "(23, 23, 76, 79, 77, 81, 78, 80, 73, 76, 74, 77),\n",
    "(24, 24, 89, 92, 90, 93, 91, 90, 87, 89, 88, 90),\n",
    "(25, 25, 83, 87, 85, 88, 86, 85, 82, 84, 83, 85),\n",
    "(26, 26, 77, 81, 79, 82, 80, 81, 76, 79, 77, 80),\n",
    "(27, 27, 92, 94, 91, 95, 93, 92, 89, 91, 90, 92),\n",
    "(28, 28, 86, 89, 87, 90, 88, 87, 84, 86, 85, 87),\n",
    "(29, 29, 80, 84, 82, 85, 83, 84, 79, 82, 80, 83),\n",
    "(30, 30, 95, 97, 94, 98, 96, 95, 92, 94, 93, 95),\n",
    "(31, 31, 89, 92, 90, 93, 91, 90, 87, 89, 88, 90),\n",
    "(32, 32, 83, 87, 85, 88, 86, 85, 82, 84, 83, 85),\n",
    "(33, 33, 78, 81, 79, 82, 80, 81, 76, 79, 77, 80),\n",
    "(34, 34, 91, 93, 90, 94, 92, 91, 88, 90, 89, 91),\n",
    "(35, 35, 85, 88, 86, 89, 87, 86, 83, 85, 84, 86),\n",
    "(36, 36, 79, 83, 81, 84, 82, 83, 78, 81, 79, 82),\n",
    "(37, 37, 94, 96, 93, 97, 95, 94, 91, 93, 92, 94),\n",
    "(38, 38, 88, 91, 89, 92, 90, 89, 86, 88, 87, 89),\n",
    "(39, 39, 82, 86, 84, 87, 85, 86, 81, 84, 82, 85),\n",
    "(40, 40, 76, 79, 77, 81, 78, 80, 73, 76, 74, 77),\n",
    "(41, 41, 89, 92, 90, 93, 91, 90, 87, 89, 88, 90),\n",
    "(42, 42, 83, 87, 85, 88, 86, 85, 82, 84, 83, 85),\n",
    "(43, 43, 77, 81, 79, 82, 80, 81, 76, 79, 77, 80),\n",
    "(44, 44, 92, 94, 91, 95, 93, 92, 89, 91, 90, 92),\n",
    "(45, 45, 86, 89, 87, 90, 88, 87, 84, 86, 85, 87),\n",
    "(46, 46, 80, 84, 82, 85, 83, 84, 79, 82, 80, 83),\n",
    "(47, 47, 95, 97, 94, 98, 96, 95, 92, 94, 93, 95),\n",
    "(48, 48, 89, 92, 90, 93, 91, 90, 87, 89, 88, 90),\n",
    "(49, 49, 83, 87, 85, 88, 86, 85, 82, 84, 83, 85),\n",
    "(50, 50, 78, 81, 79, 82, 80, 81, 76, 79, 77, 80),\n",
    "(51, 51, 91, 93, 90, 94, 92, 91, 88, 90, 89, 91),\n",
    "(52, 52, 85, 88, 86, 89, 87, 86, 83, 85, 84, 86),\n",
    "(53, 53, 79, 83, 81, 84, 82, 83, 78, 81, 79, 82),\n",
    "(54, 54, 94, 96, 93, 97, 95, 94, 91, 93, 92, 94),\n",
    "(55, 55, 88, 91, 89, 92, 90, 89, 86, 88, 87, 89),\n",
    "(56, 56, 82, 86, 84, 87, 85, 86, 81, 84, 82, 85),\n",
    "(57, 57, 76, 79, 77, 81, 78, 80, 73, 76, 74, 77),\n",
    "(58, 58, 89, 92, 90, 93, 91, 90, 87, 89, 88, 90),\n",
    "(59, 59, 83, 87, 85, 88, 86, 85, 82, 84, 83, 85),\n",
    "(60, 60, 77, 81, 79, 82, 80, 81, 76, 79, 77, 80),\n",
    "(61, 61, 92, 94, 91, 95, 93, 92, 89, 91, 90, 92),\n",
    "(62, 62, 86, 89, 87, 90, 88, 87, 84, 86, 85, 87),\n",
    "(63, 63, 80, 84, 82, 85, 83, 84, 79, 82, 80, 83),\n",
    "(64, 64, 95, 97, 94, 98, 96, 95, 92, 94, 93, 95),\n",
    "(65, 65, 89, 92, 90, 93, 91, 90, 87, 89, 88, 90),\n",
    "(66, 66, 83, 87, 85, 88, 86, 85, 82, 84, 83, 85),\n",
    "(67, 67, 78, 81, 79, 82, 80, 81, 76, 79, 77, 80),\n",
    "(68, 68, 91, 93, 90, 94, 92, 91, 88, 90, 89, 91),\n",
    "(69, 69, 85, 88, 86, 89, 87, 86, 83, 85, 84, 86),\n",
    "(70, 70, 79, 83, 81, 84, 82, 83, 78, 81, 79, 82),\n",
    "(71, 71, 94, 96, 93, 97, 95, 94, 91, 93, 92, 94),\n",
    "(72, 72, 88, 91, 89, 92, 90, 89, 86, 88, 87, 89),\n",
    "(73, 73, 82, 86, 84, 87, 85, 86, 81, 84, 82, 85),\n",
    "(74, 74, 76, 79, 77, 81, 78, 80, 73, 76, 74, 77),\n",
    "(75, 75, 89, 92, 90, 93, 91, 90, 87, 89, 88, 90),\n",
    "(76, 76, 83, 87, 85, 88, 86, 85, 82, 84, 83, 85),\n",
    "(77, 77, 77, 81, 79, 82, 80, 81, 76, 79, 77, 80),\n",
    "(78, 78, 92, 94, 91, 95, 93, 92, 89, 91, 90, 92),\n",
    "(79, 79, 86, 89, 87, 90, 88, 87, 84, 86, 85, 87),\n",
    "(80, 80, 80, 84, 82, 85, 83, 84, 79, 82, 80, 83),\n",
    "(81, 81, 95, 97, 94, 98, 96, 95, 92, 94, 93, 95),\n",
    "(82, 82, 89, 92, 90, 93, 91, 90, 87, 89, 88, 90),\n",
    "(83, 83, 83, 87, 85, 88, 86, 85, 82, 84, 83, 85),\n",
    "(84, 84, 78, 81, 79, 82, 80, 81, 76, 79, 77, 80),\n",
    "(85, 85, 91, 93, 90, 94, 92, 91, 88, 90, 89, 91),\n",
    "(86, 86, 85, 88, 86, 89, 87, 86, 83, 85, 84, 86),\n",
    "(87, 87, 79, 83, 81, 84, 82, 83, 78, 81, 79, 82),\n",
    "(88, 88, 94, 96, 93, 97, 95, 94, 91, 93, 92, 94),\n",
    "(89, 89, 88, 91, 89, 92, 90, 89, 86, 88, 87, 89),\n",
    "(90, 90, 82, 86, 84, 87, 85, 86, 81, 84, 82, 85),\n",
    "(91, 91, 76, 79, 77, 81, 78, 80, 73, 76, 74, 77),\n",
    "(92, 92, 89, 92, 90, 93, 91, 90, 87, 89, 88, 90),\n",
    "(93, 93, 83, 87, 85, 88, 86, 85, 82, 84, 83, 85),\n",
    "(94, 94, 77, 81, 79, 82, 80, 81, 76, 79, 77, 80),\n",
    "(95, 95, 92, 94, 91, 95, 93, 92, 89, 91, 90, 92),\n",
    "(96, 96, 86, 89, 87, 90, 88, 87, 84, 86, 85, 87),\n",
    "(97, 97, 80, 84, 82, 85, 83, 84, 79, 82, 80, 83),\n",
    "(98, 98, 95, 97, 94, 98, 96, 95, 92, 94, 93, 95),\n",
    "(99, 99, 89, 92, 90, 93, 91, 90, 87, 89, 88, 90),\n",
    "(100, 100, 83, 87, 85, 88, 86, 85, 82, 84, 83, 85);"
   ]
  },
  {
   "cell_type": "markdown",
   "id": "e8b71d00-974e-4676-a231-0559bed3479e",
   "metadata": {},
   "source": [
    "## solving the problems\n",
    "### -- Use Cases"
   ]
  },
  {
   "cell_type": "markdown",
   "id": "4e47265e-7993-4050-a0cc-758f0b6d420e",
   "metadata": {},
   "source": [
    "### -- Identify students enrolled in a specific course"
   ]
  },
  {
   "cell_type": "code",
   "execution_count": null,
   "id": "12eb8488-59c4-4b28-85f7-019ade54541b",
   "metadata": {},
   "outputs": [],
   "source": [
    "%%sql\n",
    "# use ums;\n",
    "select * from student \n",
    "where major ='Mathematics';\n"
   ]
  },
  {
   "cell_type": "markdown",
   "id": "9f4c203c-2afe-485c-993f-045b5536493b",
   "metadata": {},
   "source": [
    "### -- Calculate the average grade for a course"
   ]
  },
  {
   "cell_type": "code",
   "execution_count": null,
   "id": "921955c3-352c-4ae0-85e7-77fc6d7cbf27",
   "metadata": {},
   "outputs": [],
   "source": [
    "%%sql \n",
    "use ums;\n",
    "select avg(MachineLearning) as ML from grades;"
   ]
  },
  {
   "cell_type": "markdown",
   "id": "4d13a6d3-8577-4dc7-8bdd-d389241784b8",
   "metadata": {},
   "source": [
    "## -- Update course details and track student progress\n",
    "### -- update statement"
   ]
  },
  {
   "cell_type": "code",
   "execution_count": null,
   "id": "2825e94d-6ab3-438f-b0a8-68927d071f56",
   "metadata": {},
   "outputs": [],
   "source": [
    "%%sql\n",
    "use ums;\n",
    "UPDATE course\n",
    "SET credits = 2\n",
    "WHERE c_id = 7; \n",
    "select * from course;\n"
   ]
  },
  {
   "cell_type": "markdown",
   "id": "aa0e85f8-0966-466c-91ae-0ae2847f5a5b",
   "metadata": {},
   "source": [
    "## -- select with multy conditions"
   ]
  },
  {
   "cell_type": "code",
   "execution_count": null,
   "id": "aed38710-7b45-4b95-a6fe-8570408d08ed",
   "metadata": {},
   "outputs": [],
   "source": [
    "%%sql\n",
    "use ums;\n",
    "select * from student\n",
    "where s_id >90 or s_id <10 and age >20;"
   ]
  },
  {
   "cell_type": "markdown",
   "id": "faf765a5-89c7-467f-a80f-3764ee964a10",
   "metadata": {},
   "source": [
    "## -- Joins"
   ]
  },
  {
   "cell_type": "markdown",
   "id": "a9bb8050-65a1-4514-9ce4-744ccf089eb4",
   "metadata": {},
   "source": [
    "### --  Perform inner joins to combine related data"
   ]
  },
  {
   "cell_type": "code",
   "execution_count": null,
   "id": "8b569326-f9ff-4ed5-81b2-de28caa32e04",
   "metadata": {},
   "outputs": [],
   "source": [
    "%%sql\n",
    "use ums;\n",
    "select c_name,i_name from course c\n",
    "join \n",
    "instructor i\n",
    "on c.i_id=i.i_id ;"
   ]
  },
  {
   "cell_type": "markdown",
   "id": "027ce50a-a634-4d5c-bc9d-35f1cbff61af",
   "metadata": {},
   "source": [
    "## -- Use left or right joins for advanced queries"
   ]
  },
  {
   "cell_type": "code",
   "execution_count": null,
   "id": "919c102d-840b-4a96-8317-6cbcb4973f53",
   "metadata": {},
   "outputs": [],
   "source": [
    "%%sql\n",
    "use ums;\n",
    "select c_name,i_name from course c\n",
    "left join \n",
    "instructor i\n",
    "on c.i_id=i.i_id ;"
   ]
  },
  {
   "cell_type": "markdown",
   "id": "8b466b08-28b6-410e-b134-77ae595d729f",
   "metadata": {},
   "source": [
    "## -- Multiple Joins"
   ]
  },
  {
   "cell_type": "code",
   "execution_count": null,
   "id": "eb8f8ce8-2e32-4f86-aa52-c92e7c2e91f1",
   "metadata": {},
   "outputs": [],
   "source": [
    "%%sql\n",
    "use ums;\n",
    "select s_name student,i_name instructor,c_name course \n",
    "from course c\n",
    "join \n",
    "instructor i\n",
    "on c.i_id=i.i_id \n",
    "join enrollment e \n",
    "on c.c_id=e.c_id \n",
    "join student s\n",
    "on s.s_id=e.s_id ;"
   ]
  },
  {
   "cell_type": "markdown",
   "id": "63400b01-5118-451d-b2e3-dd187a04e75b",
   "metadata": {},
   "source": [
    "## -- Subqueries:"
   ]
  },
  {
   "cell_type": "code",
   "execution_count": null,
   "id": "b2e1c92b-ef3b-4a7c-90ca-74d772d31955",
   "metadata": {},
   "outputs": [],
   "source": [
    "%%sql\n",
    "use ums;\n",
    "SELECT s.s_name  student \n",
    "FROM student s\n",
    "JOIN grades g ON g.s_id = s.s_id\n",
    "WHERE g.MachineLearning > (SELECT AVG(MachineLearning) FROM grades);"
   ]
  },
  {
   "cell_type": "markdown",
   "id": "8e6f166d-4b05-44c3-a550-3aa993362977",
   "metadata": {},
   "source": [
    "## Python and Pandas:"
   ]
  },
  {
   "cell_type": "markdown",
   "id": "b0d63ce3-5be2-4f2a-9f8e-ba43e39ac13e",
   "metadata": {},
   "source": [
    "### 1.Read Data:\n",
    "Use pandas.read_sql() to load data from the database."
   ]
  },
  {
   "cell_type": "code",
   "execution_count": null,
   "id": "7094eeb3-2a24-446b-b0f7-65b31860a44b",
   "metadata": {},
   "outputs": [],
   "source": [
    "user = \"root\" \n",
    "password = \"password\" \n",
    "database = \"ums\"\n",
    "conn = pymysql.connect( user=user, password=password, database=database)\n",
    "\n",
    "df = pd.read_sql(\"SELECT * FROM student\", conn)  \n",
    "df"
   ]
  },
  {
   "cell_type": "code",
   "execution_count": null,
   "id": "bef78bdb-a7c5-444e-b1b4-9407f7da5552",
   "metadata": {},
   "outputs": [],
   "source": [
    "df1 = pd.read_sql(\"SELECT * FROM grades\", conn)  \n",
    "df1"
   ]
  },
  {
   "cell_type": "code",
   "execution_count": null,
   "id": "b337eeae-1949-4914-876c-61685018ad07",
   "metadata": {},
   "outputs": [],
   "source": [
    "df2 = pd.read_sql(\"SELECT * FROM course\", conn)  \n",
    "df2"
   ]
  },
  {
   "cell_type": "code",
   "execution_count": null,
   "id": "7ab43304-3e78-41d6-8aed-336be2e1d355",
   "metadata": {},
   "outputs": [],
   "source": [
    "df3 = pd.read_sql(\"SELECT * FROM instructor\", conn)  \n",
    "df3"
   ]
  },
  {
   "cell_type": "markdown",
   "id": "355a35ec-be3e-47d1-a40e-633fbe05b0f8",
   "metadata": {
    "scrolled": true
   },
   "source": [
    "df4 = pd.read_sql(\"SELECT * FROM enrollment\", conn)  \n",
    "df4"
   ]
  },
  {
   "cell_type": "markdown",
   "id": "2248b65d-8f11-43b8-b0be-28495ef03de0",
   "metadata": {},
   "source": [
    "### 2.Manipulate Data:"
   ]
  },
  {
   "cell_type": "markdown",
   "id": "065e6b2c-69fa-4dd1-9032-bbae76de4810",
   "metadata": {},
   "source": [
    "#### adding column"
   ]
  },
  {
   "cell_type": "code",
   "execution_count": null,
   "id": "2edc1767-6d35-44c0-afc4-603b73b93b93",
   "metadata": {},
   "outputs": [],
   "source": [
    "df['temp']=df['age']**2\n",
    "df"
   ]
  },
  {
   "cell_type": "markdown",
   "id": "1c9b125f-9354-41ae-b754-7921ab1260c6",
   "metadata": {},
   "source": [
    "#### removing column"
   ]
  },
  {
   "cell_type": "code",
   "execution_count": null,
   "id": "ccbe36f6-52f9-4c30-b649-b88dd9125cc9",
   "metadata": {
    "scrolled": true
   },
   "outputs": [],
   "source": [
    "df.drop(columns='temp',inplace=True)\n",
    "df"
   ]
  },
  {
   "cell_type": "markdown",
   "id": "f652d986-a707-481e-bda9-0d61bfbb93a9",
   "metadata": {},
   "source": [
    "### 3.Indexing:\n",
    "Access rows using loc and iloc for specific slicing."
   ]
  },
  {
   "cell_type": "code",
   "execution_count": null,
   "id": "e2d2ad2f-82a0-4f1c-b34b-1e569f836f6a",
   "metadata": {},
   "outputs": [],
   "source": [
    "df.loc[:,('s_name','major')]"
   ]
  },
  {
   "cell_type": "code",
   "execution_count": null,
   "id": "80996be7-2f8d-4f3b-b50e-81c36db69f01",
   "metadata": {},
   "outputs": [],
   "source": [
    "df.iloc[:,[1,2]]"
   ]
  },
  {
   "cell_type": "markdown",
   "id": "94852bb6-e16d-4ab7-8e93-bf68843db24c",
   "metadata": {},
   "source": [
    "### 4.Export Data:\n",
    "\n",
    "Export modified data using df.to_csv() or df.to_excel()."
   ]
  },
  {
   "cell_type": "code",
   "execution_count": null,
   "id": "7ca73375-f7c9-413b-9ee1-fb1d2cef5ce8",
   "metadata": {},
   "outputs": [],
   "source": [
    "df.to_csv('updated.csv')"
   ]
  },
  {
   "cell_type": "code",
   "execution_count": null,
   "id": "e6c8349e-95b4-4940-948a-3d112299d6c5",
   "metadata": {},
   "outputs": [],
   "source": [
    "### 5.Upload All Work In Github\n"
   ]
  }
 ],
 "metadata": {
  "kernelspec": {
   "display_name": "Python 3 (ipykernel)",
   "language": "python",
   "name": "python3"
  },
  "language_info": {
   "codemirror_mode": {
    "name": "ipython",
    "version": 3
   },
   "file_extension": ".py",
   "mimetype": "text/x-python",
   "name": "python",
   "nbconvert_exporter": "python",
   "pygments_lexer": "ipython3",
   "version": "3.12.7"
  }
 },
 "nbformat": 4,
 "nbformat_minor": 5
}
